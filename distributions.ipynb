{
  "nbformat": 4,
  "nbformat_minor": 0,
  "metadata": {
    "colab": {
      "name": "distributions.ipynb",
      "provenance": [],
      "collapsed_sections": [],
      "authorship_tag": "ABX9TyOi0nk0GppEAmT5MiTz4qH/",
      "include_colab_link": true
    },
    "kernelspec": {
      "name": "python3",
      "display_name": "Python 3"
    },
    "language_info": {
      "name": "python"
    }
  },
  "cells": [
    {
      "cell_type": "markdown",
      "metadata": {
        "id": "view-in-github",
        "colab_type": "text"
      },
      "source": [
        "<a href=\"https://colab.research.google.com/github/AilingLiu/Statistics/blob/main/distributions.ipynb\" target=\"_parent\"><img src=\"https://colab.research.google.com/assets/colab-badge.svg\" alt=\"Open In Colab\"/></a>"
      ]
    },
    {
      "cell_type": "markdown",
      "source": [
        "# Binomial Distribution\n",
        "\n",
        "Probability distribution of thenumber of successes in a sequence of independent trials\n",
        "\n",
        "- binary outcomes\n",
        "- independent trials\n",
        "\n",
        "\n",
        "E.g.\n",
        "Number of heads in a sequence of coin flips\n",
        "\n",
        "Described by n and p\n",
        "\n",
        "- n: total number of trials\n",
        "- p: probability of success\n",
        "- mu(expected value): n x p\n"
      ],
      "metadata": {
        "id": "s7NejXZESk3H"
      }
    },
    {
      "cell_type": "code",
      "source": [
        "from scipy.stats import binom\n",
        "import matplotlib.pyplot as plt\n",
        "import numpy as np\n",
        "fig, ax = plt.subplots(1, 1)\n",
        "\n",
        "rv = binom(n=10, p=0.5)\n",
        "x=np.arange(1,11)\n",
        "ax.bar(x, rv.pmf(x))\n",
        "ax.set_ylabel('Probability')\n",
        "ax.set_xlabel('Number of success')\n",
        "ax.set_xticks(x)\n",
        "ax.set_title('Binomial Distribution (n=10, p=0.5)');"
      ],
      "metadata": {
        "colab": {
          "base_uri": "https://localhost:8080/",
          "height": 295
        },
        "id": "KEKeA-7RXB05",
        "outputId": "91882522-8859-4bbb-ce15-bf3aa2087107"
      },
      "execution_count": 27,
      "outputs": [
        {
          "output_type": "display_data",
          "data": {
            "text/plain": [
              "<Figure size 432x288 with 1 Axes>"
            ],
            "image/png": "[encoded data removed]"
          },
          "metadata": {
            "needs_background": "light"
          }
        }
      ]
    },
    {
      "cell_type": "code",
      "source": [
        "# The corresponding number of success by percent point function \n",
        "rv.ppf(0.01)"
      ],
      "metadata": {
        "colab": {
          "base_uri": "https://localhost:8080/"
        },
        "id": "vkP6B48bYrl2",
        "outputId": "28cc5db3-9f48-4ac1-b255-3c0218c3a977"
      },
      "execution_count": 21,
      "outputs": [
        {
          "output_type": "execute_result",
          "data": {
            "text/plain": [
              "1.0"
            ]
          },
          "metadata": {},
          "execution_count": 21
        }
      ]
    },
    {
      "cell_type": "code",
      "source": [
        "# The probability of 7 heads?\n",
        "rv.pmf(7)"
      ],
      "metadata": {
        "colab": {
          "base_uri": "https://localhost:8080/"
        },
        "id": "Sf_hpvwCXXLw",
        "outputId": "2e1c4b73-6ead-4818-b773-d59eb0003b7e"
      },
      "execution_count": 10,
      "outputs": [
        {
          "output_type": "execute_result",
          "data": {
            "text/plain": [
              "0.11718750000000014"
            ]
          },
          "metadata": {},
          "execution_count": 10
        }
      ]
    },
    {
      "cell_type": "code",
      "source": [
        "# The probability of 7 or fewer heads?\n",
        "rv.cdf(7)"
      ],
      "metadata": {
        "colab": {
          "base_uri": "https://localhost:8080/"
        },
        "id": "CA7lyuXQSm0W",
        "outputId": "72a1006c-97c5-4054-8cce-8914a34a75fb"
      },
      "execution_count": 11,
      "outputs": [
        {
          "output_type": "execute_result",
          "data": {
            "text/plain": [
              "0.9453125"
            ]
          },
          "metadata": {},
          "execution_count": 11
        }
      ]
    },
    {
      "cell_type": "code",
      "source": [
        "# The probability of more than 7 heads?\n",
        "1-rv.cdf(7)"
      ],
      "metadata": {
        "colab": {
          "base_uri": "https://localhost:8080/"
        },
        "id": "p-qdY7nPW70S",
        "outputId": "c9b86f86-96b5-4080-bb72-2cb68aabded7"
      },
      "execution_count": 12,
      "outputs": [
        {
          "output_type": "execute_result",
          "data": {
            "text/plain": [
              "0.0546875"
            ]
          },
          "metadata": {},
          "execution_count": 12
        }
      ]
    },
    {
      "cell_type": "markdown",
      "source": [
        "# Normal Distribution\n",
        "\n",
        "- symmetrical\n",
        "- total area = 1\n",
        "- curve (probability) never hits 0\n",
        "- described by mean and standard deviation\n",
        "- 68% falss within 1 standard deviation; 95% falls within 2 standard deviations; 99.7% falls within 3 standard deviations"
      ],
      "metadata": {
        "id": "H7RMy3I2aHoh"
      }
    },
    {
      "cell_type": "code",
      "source": [
        "from scipy.stats import norm\n",
        "fig, (ax1, ax2) = plt.subplots(2,1)\n",
        "\n",
        "rv1 = norm(loc=20, scale=3)\n",
        "x = np.linspace(rv1.ppf(0.0001), rv1.ppf(0.9999), 1000)\n",
        "ax1.plot(x, rv1.pdf(x), color='k', alpha=0.7, linewidth=4)\n",
        "ax1.set_title('Normal Distribution (mu=20, sd=3)')\n",
        "\n",
        "rv2 = norm() # default loc=0, scale=1\n",
        "x = np.linspace(rv2.ppf(0.0001), rv2.ppf(0.9999), 1000)\n",
        "ax2.plot(x, rv2.pdf(x), color='k', alpha=0.7, linewidth=4)\n",
        "ax2.set_title('Normal Distribution (mu=0, sd=1)')\n",
        "\n",
        "fig.tight_layout()\n",
        "fig;"
      ],
      "metadata": {
        "colab": {
          "base_uri": "https://localhost:8080/",
          "height": 297
        },
        "id": "XC8-CAH7bDAE",
        "outputId": "349a4315-0e6b-4f99-d8b2-b602912860ff"
      },
      "execution_count": 47,
      "outputs": [
        {
          "output_type": "display_data",
          "data": {
            "text/plain": [
              "<Figure size 432x288 with 2 Axes>"
            ],
            "image/png": "[encoded data removed]"
          },
          "metadata": {
            "needs_background": "light"
          }
        }
      ]
    },
    {
      "cell_type": "code",
      "source": [
        "fig, ax = plt.subplots(1,1)\n",
        "\n",
        "height_dist = norm(loc=161, scale=7)\n",
        "x=np.linspace(height_dist.ppf(0.001), height_dist.ppf(0.999), 10000)\n",
        "ax.plot(x, height_dist.pdf(x),'r-', lw=5, alpha=0.6, label='norm pdf')\n",
        "ax.hist(height_dist.rvs(size=1000), density=True, histtype='stepfilled', alpha=0.2)\n",
        "ax.set_xlabel('Height(cm)')\n",
        "ax.set_ylabel('density')\n",
        "plt.show();"
      ],
      "metadata": {
        "colab": {
          "base_uri": "https://localhost:8080/",
          "height": 279
        },
        "id": "TS4G0qTvbFOz",
        "outputId": "e662ed15-7012-4834-dffe-9052794efa6b"
      },
      "execution_count": 57,
      "outputs": [
        {
          "output_type": "display_data",
          "data": {
            "text/plain": [
              "<Figure size 432x288 with 1 Axes>"
            ],
            "image/png": "[encoded data removed]"
          },
          "metadata": {
            "needs_background": "light"
          }
        }
      ]
    },
    {
      "cell_type": "code",
      "source": [
        "# What percent of female population is shorter than 154 cm?\n",
        "\n",
        "height_dist.cdf(154)"
      ],
      "metadata": {
        "colab": {
          "base_uri": "https://localhost:8080/"
        },
        "id": "phYVfV9ygKhP",
        "outputId": "d0da5dc7-459a-4990-b3ed-d117db738201"
      },
      "execution_count": 58,
      "outputs": [
        {
          "output_type": "execute_result",
          "data": {
            "text/plain": [
              "0.15865525393145707"
            ]
          },
          "metadata": {},
          "execution_count": 58
        }
      ]
    },
    {
      "cell_type": "code",
      "source": [
        "# What percent of female population is taller than 154 cm?\n",
        "\n",
        "1-height_dist.cdf(154)"
      ],
      "metadata": {
        "colab": {
          "base_uri": "https://localhost:8080/"
        },
        "id": "5BEJB6JdhYyy",
        "outputId": "e48269b8-98fb-4bfc-c2a6-0a6844ce652c"
      },
      "execution_count": 59,
      "outputs": [
        {
          "output_type": "execute_result",
          "data": {
            "text/plain": [
              "0.8413447460685429"
            ]
          },
          "metadata": {},
          "execution_count": 59
        }
      ]
    },
    {
      "cell_type": "code",
      "source": [
        "# What percent of female population is between 154 and 157 cm?\n",
        "\n",
        "height_dist.cdf(157)-height_dist.cdf(154)"
      ],
      "metadata": {
        "colab": {
          "base_uri": "https://localhost:8080/"
        },
        "id": "WASqWFpDhv2M",
        "outputId": "6663fb4e-d588-4a3c-9eae-e7413cfc2702"
      },
      "execution_count": 60,
      "outputs": [
        {
          "output_type": "execute_result",
          "data": {
            "text/plain": [
              "0.1251993291672192"
            ]
          },
          "metadata": {},
          "execution_count": 60
        }
      ]
    },
    {
      "cell_type": "code",
      "source": [
        "# What height are 90% of women shorter than? -- left tail\n",
        "height_dist.ppf(0.9)"
      ],
      "metadata": {
        "colab": {
          "base_uri": "https://localhost:8080/"
        },
        "id": "uTh3aQLLh57K",
        "outputId": "537b4619-0d2d-487d-d21c-cc15533adbce"
      },
      "execution_count": 61,
      "outputs": [
        {
          "output_type": "execute_result",
          "data": {
            "text/plain": [
              "169.9708609588122"
            ]
          },
          "metadata": {},
          "execution_count": 61
        }
      ]
    },
    {
      "cell_type": "code",
      "source": [
        "fig, ax = plt.subplots(1,1)\n",
        "\n",
        "height_dist = norm(loc=161, scale=7)\n",
        "x=np.linspace(height_dist.ppf(0.001), height_dist.ppf(0.999), 10000)\n",
        "ax.plot(x, height_dist.pdf(x),'r-', lw=5, alpha=0.6, label='norm pdf')\n",
        "ax.hist(height_dist.rvs(size=1000), density=True, histtype='stepfilled', alpha=0.8)\n",
        "\n",
        "right_90_x = x[x>=height_dist.ppf(0.1)] \n",
        "ax.fill_between(right_90_x, height_dist.pdf(right_90_x), color='red', alpha=0.5)\n",
        "ax.text(x=height_dist.mean()*0.99, y=height_dist.pdf(height_dist.mean())/2, s='90%', size=20)\n",
        "ax.set_xlabel('Height(cm)')\n",
        "ax.set_ylabel('density')\n",
        "plt.show();"
      ],
      "metadata": {
        "colab": {
          "base_uri": "https://localhost:8080/",
          "height": 279
        },
        "id": "23FMh1r2i5g7",
        "outputId": "3dc9a5dc-941b-4821-f8bd-fd1a631ccdfc"
      },
      "execution_count": 82,
      "outputs": [
        {
          "output_type": "display_data",
          "data": {
            "text/plain": [
              "<Figure size 432x288 with 1 Axes>"
            ],
            "image/png": "[encoded data removed]"
          },
          "metadata": {
            "needs_background": "light"
          }
        }
      ]
    },
    {
      "cell_type": "code",
      "source": [
        "# What height are 90% of women taller than? -- right tail\n",
        "height_dist.ppf(0.1)"
      ],
      "metadata": {
        "colab": {
          "base_uri": "https://localhost:8080/"
        },
        "id": "sYcQp_n3iDKj",
        "outputId": "71e337fe-bd02-4b59-9ab1-58eb4b297d11"
      },
      "execution_count": 63,
      "outputs": [
        {
          "output_type": "execute_result",
          "data": {
            "text/plain": [
              "152.0291390411878"
            ]
          },
          "metadata": {},
          "execution_count": 63
        }
      ]
    },
    {
      "cell_type": "code",
      "source": [
        "# Generating random numbers\n",
        "\n",
        "norm.rvs(loc=161, scale=7, size=10)"
      ],
      "metadata": {
        "colab": {
          "base_uri": "https://localhost:8080/"
        },
        "id": "PjtHJM5tkcS0",
        "outputId": "adeaa0f6-bec3-4962-9833-fb45c11ac2ed"
      },
      "execution_count": 83,
      "outputs": [
        {
          "output_type": "execute_result",
          "data": {
            "text/plain": [
              "array([154.33408996, 158.60563402, 166.17138031, 157.13033522,\n",
              "       156.16595175, 173.73033658, 152.83057435, 166.58420618,\n",
              "       165.45510244, 155.97662004])"
            ]
          },
          "metadata": {},
          "execution_count": 83
        }
      ]
    },
    {
      "cell_type": "markdown",
      "source": [
        "# Sampling Distribution (Central Limist Theorem)\n",
        "\n",
        "Take binomial as example:\n",
        "\n",
        "- one sample mean: rolling the dice 5 times, take the mean\n",
        "- sample means: repeat 1000 times, take each sample's mean, resulting in 1000 sample means\n",
        "- sampling distribution: The sampling distribution of a statistic becomes closer to the normal distribution as the number of trials increases. \n"
      ],
      "metadata": {
        "id": "YDPS-fGPlijY"
      }
    },
    {
      "cell_type": "code",
      "source": [
        "1000%100"
      ],
      "metadata": {
        "colab": {
          "base_uri": "https://localhost:8080/"
        },
        "id": "8z4j0wb5pLSC",
        "outputId": "da3c008f-cb14-4842-f799-89dba01241d2"
      },
      "execution_count": 95,
      "outputs": [
        {
          "output_type": "execute_result",
          "data": {
            "text/plain": [
              "0"
            ]
          },
          "metadata": {},
          "execution_count": 95
        }
      ]
    },
    {
      "cell_type": "code",
      "source": [
        "from scipy.stats import uniform\n",
        "\n",
        "sampling_means = []\n",
        "\n",
        "for i in range(1000):\n",
        "  ten_rolls_means = []\n",
        "  for i in range(10):\n",
        "    five_rolls_means = [uniform.rvs(loc=3.5, scale=1, size=5).astype(int).mean()]\n",
        "    ten_rolls_means += five_rolls_means\n",
        "  sampling_means+=[np.mean(ten_rolls_means)]\n",
        "  "
      ],
      "metadata": {
        "id": "qZWkuJ1ulebY"
      },
      "execution_count": 111,
      "outputs": []
    },
    {
      "cell_type": "code",
      "source": [
        "len(sampling_means)"
      ],
      "metadata": {
        "colab": {
          "base_uri": "https://localhost:8080/"
        },
        "id": "vF8kZL_-prLN",
        "outputId": "3a4faa63-aa2b-4d9f-ac5d-1874682de6f9"
      },
      "execution_count": 112,
      "outputs": [
        {
          "output_type": "execute_result",
          "data": {
            "text/plain": [
              "1000"
            ]
          },
          "metadata": {},
          "execution_count": 112
        }
      ]
    },
    {
      "cell_type": "code",
      "source": [
        "fig, ax = plt.subplots(1,1)\n",
        "\n",
        "ax.hist(sampling_means, color='gray')\n",
        "ax.axvline(np.mean(sampling_means), color='red', linestyle='--')\n",
        "ax.set_title('Sampling Distribution')\n",
        "plt.show()"
      ],
      "metadata": {
        "colab": {
          "base_uri": "https://localhost:8080/",
          "height": 281
        },
        "id": "EKplQKwJof36",
        "outputId": "fbd9d9e6-d05b-4c85-fad6-103d0599d1a3"
      },
      "execution_count": 115,
      "outputs": [
        {
          "output_type": "display_data",
          "data": {
            "text/plain": [
              "<Figure size 432x288 with 1 Axes>"
            ],
            "image/png": "[encoded data removed]"
          },
          "metadata": {
            "needs_background": "light"
          }
        }
      ]
    },
    {
      "cell_type": "code",
      "source": [
        "# Estimate expected value of die\n",
        "np.mean(sampling_means)"
      ],
      "metadata": {
        "colab": {
          "base_uri": "https://localhost:8080/"
        },
        "id": "fRiKjId-qgkB",
        "outputId": "07f00d93-b0e5-47cb-e022-5702c8321e3f"
      },
      "execution_count": 116,
      "outputs": [
        {
          "output_type": "execute_result",
          "data": {
            "text/plain": [
              "3.5002799999999996"
            ]
          },
          "metadata": {},
          "execution_count": 116
        }
      ]
    },
    {
      "cell_type": "code",
      "source": [
        ""
      ],
      "metadata": {
        "id": "JrHzh3LPrKbt"
      },
      "execution_count": null,
      "outputs": []
    }
  ]
}