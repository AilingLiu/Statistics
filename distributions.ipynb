{
  "nbformat": 4,
  "nbformat_minor": 0,
  "metadata": {
    "colab": {
      "name": "distributions.ipynb",
      "provenance": [],
      "collapsed_sections": [],
      "authorship_tag": "ABX9TyPXQwoTViikcebAVVPVzkXi",
      "include_colab_link": true
    },
    "kernelspec": {
      "name": "python3",
      "display_name": "Python 3"
    },
    "language_info": {
      "name": "python"
    }
  },
  "cells": [
    {
      "cell_type": "markdown",
      "metadata": {
        "id": "view-in-github",
        "colab_type": "text"
      },
      "source": [
        "<a href=\"https://colab.research.google.com/github/AilingLiu/Statistics/blob/main/distributions.ipynb\" target=\"_parent\"><img src=\"https://colab.research.google.com/assets/colab-badge.svg\" alt=\"Open In Colab\"/></a>"
      ]
    },
    {
      "cell_type": "markdown",
      "source": [
        "This notebook follows the course from datacamp [Introduction to Statistics in R](https://app.datacamp.com/learn/courses/introduction-to-statistics-in-r) and [Foundations of Probability in R](https://app.datacamp.com/learn/courses/foundations-of-probability-in-r)."
      ],
      "metadata": {
        "id": "8ufjTiymPPkQ"
      }
    },
    {
      "cell_type": "markdown",
      "source": [
        "# Binomial Distribution\n",
        "\n",
        "X ~ Binomial(n, p)\n",
        "\n",
        "Probability distribution of the number of successes in a sequence of independent trials\n",
        "\n",
        "- binary outcomes\n",
        "- independent trials\n",
        "\n",
        "\n",
        "E.g.\n",
        "Number of heads in a sequence of coin flips\n",
        "\n",
        "Described by n and p\n",
        "\n",
        "- n: total number of trials\n",
        "- p: probability of success\n",
        "- mu(expected value): n x p\n",
        "  - $E[k*X] = k.E[X]$\n",
        "  - $E[X + Y] = E[X] + E[Y]$ (event if X and Y aren't independent)\n",
        "- variance: n x p x (1-p)\n",
        "  - $Var[k*X]=k^2* Var[X]$\n",
        "  - $Var[X + Y] = Var[X] + Var[Y]$ (only if X and Y are independent)\n",
        "- Adding two random variables\n",
        "  - $X ∼ Binom(10, 0.5)$\n",
        "  - $Y ∼ Binom(100, 0.2)$\n",
        "  - $Z ∼ X+Y$\n",
        "\n"
      ],
      "metadata": {
        "id": "s7NejXZESk3H"
      }
    },
    {
      "cell_type": "code",
      "source": [
        "from scipy.stats import binom\n",
        "import matplotlib.pyplot as plt\n",
        "import numpy as np\n",
        "fig, ax = plt.subplots(1, 1)\n",
        "\n",
        "rv = binom(n=10, p=0.5)\n",
        "x=np.arange(1,11)\n",
        "ax.bar(x, rv.pmf(x))\n",
        "ax.set_ylabel('Probability')\n",
        "ax.set_xlabel('Number of success')\n",
        "ax.set_xticks(x)\n",
        "ax.set_title('Binomial Distribution (n=10, p=0.5)');"
      ],
      "metadata": {
        "colab": {
          "base_uri": "https://localhost:8080/",
          "height": 295
        },
        "id": "KEKeA-7RXB05",
        "outputId": "078d6141-0d00-42fb-900d-f7e31fdb112c"
      },
      "execution_count": null,
      "outputs": [
        {
          "output_type": "display_data",
          "data": {
            "text/plain": [
              "<Figure size 432x288 with 1 Axes>"
            ],
            "image/png": "[encoded data removed]"
          },
          "metadata": {
            "needs_background": "light"
          }
        }
      ]
    },
    {
      "cell_type": "code",
      "source": [
        "# The corresponding number of success by percent point function \n",
        "rv.ppf(0.01)"
      ],
      "metadata": {
        "colab": {
          "base_uri": "https://localhost:8080/"
        },
        "id": "vkP6B48bYrl2",
        "outputId": "28cc5db3-9f48-4ac1-b255-3c0218c3a977"
      },
      "execution_count": null,
      "outputs": [
        {
          "output_type": "execute_result",
          "data": {
            "text/plain": [
              "1.0"
            ]
          },
          "metadata": {},
          "execution_count": 21
        }
      ]
    },
    {
      "cell_type": "code",
      "source": [
        "# The probability of 7 heads?\n",
        "rv.pmf(7)"
      ],
      "metadata": {
        "colab": {
          "base_uri": "https://localhost:8080/"
        },
        "id": "Sf_hpvwCXXLw",
        "outputId": "2e1c4b73-6ead-4818-b773-d59eb0003b7e"
      },
      "execution_count": null,
      "outputs": [
        {
          "output_type": "execute_result",
          "data": {
            "text/plain": [
              "0.11718750000000014"
            ]
          },
          "metadata": {},
          "execution_count": 10
        }
      ]
    },
    {
      "cell_type": "code",
      "source": [
        "# The probability of 7 or fewer heads?\n",
        "rv.cdf(7)"
      ],
      "metadata": {
        "colab": {
          "base_uri": "https://localhost:8080/"
        },
        "id": "CA7lyuXQSm0W",
        "outputId": "72a1006c-97c5-4054-8cce-8914a34a75fb"
      },
      "execution_count": null,
      "outputs": [
        {
          "output_type": "execute_result",
          "data": {
            "text/plain": [
              "0.9453125"
            ]
          },
          "metadata": {},
          "execution_count": 11
        }
      ]
    },
    {
      "cell_type": "code",
      "source": [
        "# The probability of more than 7 heads?\n",
        "1-rv.cdf(7)"
      ],
      "metadata": {
        "colab": {
          "base_uri": "https://localhost:8080/"
        },
        "id": "p-qdY7nPW70S",
        "outputId": "c9b86f86-96b5-4080-bb72-2cb68aabded7"
      },
      "execution_count": null,
      "outputs": [
        {
          "output_type": "execute_result",
          "data": {
            "text/plain": [
              "0.0546875"
            ]
          },
          "metadata": {},
          "execution_count": 12
        }
      ]
    },
    {
      "cell_type": "markdown",
      "source": [
        "# Normal Distribution\n",
        "\n",
        "- symmetrical\n",
        "- total area = 1\n",
        "- curve (probability) never hits 0\n",
        "- described by mean and standard deviation\n",
        "- 68% falss within 1 standard deviation; 95% falls within 2 standard deviations; 99.7% falls within 3 standard deviations"
      ],
      "metadata": {
        "id": "H7RMy3I2aHoh"
      }
    },
    {
      "cell_type": "code",
      "source": [
        "from scipy.stats import norm\n",
        "fig, (ax1, ax2) = plt.subplots(2,1)\n",
        "\n",
        "rv1 = norm(loc=20, scale=3)\n",
        "x = np.linspace(rv1.ppf(0.0001), rv1.ppf(0.9999), 1000)\n",
        "ax1.plot(x, rv1.pdf(x), color='k', alpha=0.7, linewidth=4)\n",
        "ax1.set_title('Normal Distribution (mu=20, sd=3)')\n",
        "\n",
        "rv2 = norm() # default loc=0, scale=1\n",
        "x = np.linspace(rv2.ppf(0.0001), rv2.ppf(0.9999), 1000)\n",
        "ax2.plot(x, rv2.pdf(x), color='k', alpha=0.7, linewidth=4)\n",
        "ax2.set_title('Normal Distribution (mu=0, sd=1)')\n",
        "\n",
        "fig.tight_layout()\n",
        "fig;"
      ],
      "metadata": {
        "colab": {
          "base_uri": "https://localhost:8080/",
          "height": 297
        },
        "id": "XC8-CAH7bDAE",
        "outputId": "349a4315-0e6b-4f99-d8b2-b602912860ff"
      },
      "execution_count": null,
      "outputs": [
        {
          "output_type": "display_data",
          "data": {
            "text/plain": [
              "<Figure size 432x288 with 2 Axes>"
            ],
            "image/png": "[encoded data removed]"
          },
          "metadata": {
            "needs_background": "light"
          }
        }
      ]
    },
    {
      "cell_type": "code",
      "source": [
        "fig, ax = plt.subplots(1,1)\n",
        "\n",
        "height_dist = norm(loc=161, scale=7)\n",
        "x=np.linspace(height_dist.ppf(0.001), height_dist.ppf(0.999), 10000)\n",
        "ax.plot(x, height_dist.pdf(x),'r-', lw=5, alpha=0.6, label='norm pdf')\n",
        "ax.hist(height_dist.rvs(size=1000), density=True, histtype='stepfilled', alpha=0.2)\n",
        "ax.set_xlabel('Height(cm)')\n",
        "ax.set_ylabel('density')\n",
        "plt.show();"
      ],
      "metadata": {
        "colab": {
          "base_uri": "https://localhost:8080/",
          "height": 279
        },
        "id": "TS4G0qTvbFOz",
        "outputId": "e662ed15-7012-4834-dffe-9052794efa6b"
      },
      "execution_count": null,
      "outputs": [
        {
          "output_type": "display_data",
          "data": {
            "text/plain": [
              "<Figure size 432x288 with 1 Axes>"
            ],
            "image/png": "[encoded data removed]"
          },
          "metadata": {
            "needs_background": "light"
          }
        }
      ]
    },
    {
      "cell_type": "code",
      "source": [
        "# What percent of female population is shorter than 154 cm?\n",
        "\n",
        "height_dist.cdf(154)"
      ],
      "metadata": {
        "colab": {
          "base_uri": "https://localhost:8080/"
        },
        "id": "phYVfV9ygKhP",
        "outputId": "d0da5dc7-459a-4990-b3ed-d117db738201"
      },
      "execution_count": null,
      "outputs": [
        {
          "output_type": "execute_result",
          "data": {
            "text/plain": [
              "0.15865525393145707"
            ]
          },
          "metadata": {},
          "execution_count": 58
        }
      ]
    },
    {
      "cell_type": "code",
      "source": [
        "# What percent of female population is taller than 154 cm?\n",
        "\n",
        "1-height_dist.cdf(154)"
      ],
      "metadata": {
        "colab": {
          "base_uri": "https://localhost:8080/"
        },
        "id": "5BEJB6JdhYyy",
        "outputId": "e48269b8-98fb-4bfc-c2a6-0a6844ce652c"
      },
      "execution_count": null,
      "outputs": [
        {
          "output_type": "execute_result",
          "data": {
            "text/plain": [
              "0.8413447460685429"
            ]
          },
          "metadata": {},
          "execution_count": 59
        }
      ]
    },
    {
      "cell_type": "code",
      "source": [
        "# What percent of female population is between 154 and 157 cm?\n",
        "\n",
        "height_dist.cdf(157)-height_dist.cdf(154)"
      ],
      "metadata": {
        "colab": {
          "base_uri": "https://localhost:8080/"
        },
        "id": "WASqWFpDhv2M",
        "outputId": "6663fb4e-d588-4a3c-9eae-e7413cfc2702"
      },
      "execution_count": null,
      "outputs": [
        {
          "output_type": "execute_result",
          "data": {
            "text/plain": [
              "0.1251993291672192"
            ]
          },
          "metadata": {},
          "execution_count": 60
        }
      ]
    },
    {
      "cell_type": "code",
      "source": [
        "# What height are 90% of women shorter than? -- left tail\n",
        "height_dist.ppf(0.9)"
      ],
      "metadata": {
        "colab": {
          "base_uri": "https://localhost:8080/"
        },
        "id": "uTh3aQLLh57K",
        "outputId": "537b4619-0d2d-487d-d21c-cc15533adbce"
      },
      "execution_count": null,
      "outputs": [
        {
          "output_type": "execute_result",
          "data": {
            "text/plain": [
              "169.9708609588122"
            ]
          },
          "metadata": {},
          "execution_count": 61
        }
      ]
    },
    {
      "cell_type": "code",
      "source": [
        "fig, ax = plt.subplots(1,1)\n",
        "\n",
        "height_dist = norm(loc=161, scale=7)\n",
        "x=np.linspace(height_dist.ppf(0.001), height_dist.ppf(0.999), 10000)\n",
        "ax.plot(x, height_dist.pdf(x),'r-', lw=5, alpha=0.6, label='norm pdf')\n",
        "ax.hist(height_dist.rvs(size=1000), density=True, histtype='stepfilled', alpha=0.8)\n",
        "\n",
        "right_90_x = x[x>=height_dist.ppf(0.1)] \n",
        "ax.fill_between(right_90_x, height_dist.pdf(right_90_x), color='red', alpha=0.5)\n",
        "ax.text(x=height_dist.mean()*0.99, y=height_dist.pdf(height_dist.mean())/2, s='90%', size=20)\n",
        "ax.set_xlabel('Height(cm)')\n",
        "ax.set_ylabel('density')\n",
        "plt.show();"
      ],
      "metadata": {
        "colab": {
          "base_uri": "https://localhost:8080/",
          "height": 279
        },
        "id": "23FMh1r2i5g7",
        "outputId": "3dc9a5dc-941b-4821-f8bd-fd1a631ccdfc"
      },
      "execution_count": null,
      "outputs": [
        {
          "output_type": "display_data",
          "data": {
            "text/plain": [
              "<Figure size 432x288 with 1 Axes>"
            ],
            "image/png": "[encoded data removed]"
          },
          "metadata": {
            "needs_background": "light"
          }
        }
      ]
    },
    {
      "cell_type": "code",
      "source": [
        "# What height are 90% of women taller than? -- right tail\n",
        "height_dist.ppf(0.1)"
      ],
      "metadata": {
        "colab": {
          "base_uri": "https://localhost:8080/"
        },
        "id": "sYcQp_n3iDKj",
        "outputId": "71e337fe-bd02-4b59-9ab1-58eb4b297d11"
      },
      "execution_count": null,
      "outputs": [
        {
          "output_type": "execute_result",
          "data": {
            "text/plain": [
              "152.0291390411878"
            ]
          },
          "metadata": {},
          "execution_count": 63
        }
      ]
    },
    {
      "cell_type": "code",
      "source": [
        "# Generating random numbers\n",
        "\n",
        "norm.rvs(loc=161, scale=7, size=10)"
      ],
      "metadata": {
        "colab": {
          "base_uri": "https://localhost:8080/"
        },
        "id": "PjtHJM5tkcS0",
        "outputId": "adeaa0f6-bec3-4962-9833-fb45c11ac2ed"
      },
      "execution_count": null,
      "outputs": [
        {
          "output_type": "execute_result",
          "data": {
            "text/plain": [
              "array([154.33408996, 158.60563402, 166.17138031, 157.13033522,\n",
              "       156.16595175, 173.73033658, 152.83057435, 166.58420618,\n",
              "       165.45510244, 155.97662004])"
            ]
          },
          "metadata": {},
          "execution_count": 83
        }
      ]
    },
    {
      "cell_type": "markdown",
      "source": [
        "# Sampling Distribution (Central Limit Theorem)\n",
        "\n",
        "Take binomial as example:\n",
        "\n",
        "- one sample mean: roll the dice 5 times, take the mean\n",
        "- sample means: repeat 1000 times, take each sample's mean, resulting in 1000 sample means\n",
        "- sampling distribution: The sampling distribution of a statistic becomes closer to the normal distribution as the number of trials increases. \n"
      ],
      "metadata": {
        "id": "YDPS-fGPlijY"
      }
    },
    {
      "cell_type": "code",
      "source": [
        "from scipy.stats import uniform\n",
        "\n",
        "sampling_means = []\n",
        "\n",
        "for i in range(1000):\n",
        "  ten_rolls_means = []\n",
        "  for i in range(10):\n",
        "    five_rolls_means = [uniform.rvs(loc=3.5, scale=1, size=5).astype(int).mean()]\n",
        "    ten_rolls_means += five_rolls_means\n",
        "  sampling_means+=[np.mean(ten_rolls_means)]\n",
        "  "
      ],
      "metadata": {
        "id": "qZWkuJ1ulebY"
      },
      "execution_count": null,
      "outputs": []
    },
    {
      "cell_type": "code",
      "source": [
        "len(sampling_means)"
      ],
      "metadata": {
        "colab": {
          "base_uri": "https://localhost:8080/"
        },
        "id": "vF8kZL_-prLN",
        "outputId": "3a4faa63-aa2b-4d9f-ac5d-1874682de6f9"
      },
      "execution_count": null,
      "outputs": [
        {
          "output_type": "execute_result",
          "data": {
            "text/plain": [
              "1000"
            ]
          },
          "metadata": {},
          "execution_count": 112
        }
      ]
    },
    {
      "cell_type": "code",
      "source": [
        "fig, ax = plt.subplots(1,1)\n",
        "\n",
        "ax.hist(sampling_means, color='gray')\n",
        "ax.axvline(np.mean(sampling_means), color='red', linestyle='--')\n",
        "ax.set_title('Sampling Distribution')\n",
        "plt.show()"
      ],
      "metadata": {
        "colab": {
          "base_uri": "https://localhost:8080/",
          "height": 281
        },
        "id": "EKplQKwJof36",
        "outputId": "fbd9d9e6-d05b-4c85-fad6-103d0599d1a3"
      },
      "execution_count": null,
      "outputs": [
        {
          "output_type": "display_data",
          "data": {
            "text/plain": [
              "<Figure size 432x288 with 1 Axes>"
            ],
            "image/png": "[encoded data removed]"
          },
          "metadata": {
            "needs_background": "light"
          }
        }
      ]
    },
    {
      "cell_type": "code",
      "source": [
        "# Estimate expected value of die\n",
        "np.mean(sampling_means)"
      ],
      "metadata": {
        "colab": {
          "base_uri": "https://localhost:8080/"
        },
        "id": "fRiKjId-qgkB",
        "outputId": "07f00d93-b0e5-47cb-e022-5702c8321e3f"
      },
      "execution_count": null,
      "outputs": [
        {
          "output_type": "execute_result",
          "data": {
            "text/plain": [
              "3.5002799999999996"
            ]
          },
          "metadata": {},
          "execution_count": 116
        }
      ]
    },
    {
      "cell_type": "markdown",
      "source": [
        "# Poisson distribution\n",
        "\n",
        "**Poisson Process**\n",
        "- Events appear to happen at a certain rate, but completely at random\n",
        "- Examples:\n",
        "  - Number of animals adopted from an animal shelter per week\n",
        "  - Number of people arriving at a restaurant per hour\n",
        "  - Number of earthquakes in California per year\n",
        "\n",
        "**Poisson Distribution**\n",
        "- Probability of some # of events occuring over a fixed period of time\n",
        "- Examples:\n",
        "  - Prob of >= 5 animals adopted from an animal shelter per week\n",
        "  - Prob of 12 people arriving at a restaurant per hour\n",
        "  - Prob of < 20 earthquakes in California per year\n",
        "\n",
        "**Parameters**\n",
        "- λ = average number of events per time interval\n",
        "- λ is the distribution peak \n",
        "- $E[X]=λ$\n",
        "- $Var[X]=λ$"
      ],
      "metadata": {
        "id": "ZFL43YLpDSva"
      }
    },
    {
      "cell_type": "code",
      "source": [
        "from scipy.stats import poisson\n",
        "fig, ax = plt.subplots(1,1)\n",
        "\n",
        "dist = poisson(mu=8)\n",
        "x=np.arange(dist.ppf(0.000), dist.ppf(0.999))\n",
        "ax.bar(x, dist.pmf(x), color='gray')\n",
        "ax.set_ylabel('Probability')\n",
        "ax.set_xlabel('Number of Adoptions')\n",
        "ax.set_title('Poisson Distribution (lambda = 8)')\n",
        "ax.set_xlim(-0.5, 10.5);"
      ],
      "metadata": {
        "colab": {
          "base_uri": "https://localhost:8080/",
          "height": 295
        },
        "id": "P6DF05UHI6Zz",
        "outputId": "a276ceb1-f9cb-47c0-f489-42882ad6b21e"
      },
      "execution_count": null,
      "outputs": [
        {
          "output_type": "display_data",
          "data": {
            "text/plain": [
              "<Figure size 432x288 with 1 Axes>"
            ],
            "image/png": "[encoded data removed]"
          },
          "metadata": {
            "needs_background": "light"
          }
        }
      ]
    },
    {
      "cell_type": "code",
      "source": [
        "fig, ax = plt.subplots(1,1)\n",
        "\n",
        "for mu in [1,5, 8]:\n",
        "  dist = poisson(mu=mu)\n",
        "  x=np.arange(0, 11)\n",
        "  ax.plot(x, dist.pmf(x), label=f'{mu}')\n",
        "\n",
        "legend = ax.legend(loc='best', shadow=True, fontsize='large', title='lambda')\n",
        "ax.set_ylabel('Probability')\n",
        "ax.set_xlabel('Number of Events')\n",
        "ax.set_xticks(x)\n",
        "ax.set_title('Poisson Distribution');"
      ],
      "metadata": {
        "colab": {
          "base_uri": "https://localhost:8080/",
          "height": 295
        },
        "id": "NVvbI7QJGbz3",
        "outputId": "4baa51fb-26ea-4772-b06e-62b3f0ad4220"
      },
      "execution_count": null,
      "outputs": [
        {
          "output_type": "display_data",
          "data": {
            "text/plain": [
              "<Figure size 432x288 with 1 Axes>"
            ],
            "image/png": "[encoded data removed]"
          },
          "metadata": {
            "needs_background": "light"
          }
        }
      ]
    },
    {
      "cell_type": "markdown",
      "source": [
        "λ is the distribution peak"
      ],
      "metadata": {
        "id": "E-vsQNirMumy"
      }
    },
    {
      "cell_type": "code",
      "source": [
        "# if the average number of adoptions per week is 8, what is P(# of adoptions in a week = 5)?\n",
        "\n",
        "dist=poisson(mu=8)\n",
        "dist.pmf(5)"
      ],
      "metadata": {
        "colab": {
          "base_uri": "https://localhost:8080/"
        },
        "id": "W5kMy5cgKrow",
        "outputId": "40ea115c-ac5c-4968-eabf-64c3c3df2aee"
      },
      "execution_count": null,
      "outputs": [
        {
          "output_type": "execute_result",
          "data": {
            "text/plain": [
              "0.09160366159257921"
            ]
          },
          "metadata": {},
          "execution_count": 46
        }
      ]
    },
    {
      "cell_type": "code",
      "source": [
        "# if the average number of adoptions per week is 8, what is P(# of adoptions in a week <= 5)?\n",
        "dist.cdf(5)"
      ],
      "metadata": {
        "colab": {
          "base_uri": "https://localhost:8080/"
        },
        "id": "xn8AfjPYM7dc",
        "outputId": "ce21c23f-037d-4cd7-e7af-4607467304ee"
      },
      "execution_count": null,
      "outputs": [
        {
          "output_type": "execute_result",
          "data": {
            "text/plain": [
              "0.19123606207962532"
            ]
          },
          "metadata": {},
          "execution_count": 47
        }
      ]
    },
    {
      "cell_type": "code",
      "source": [
        "# if the average number of adoptions per week is 8, what is P(# of adoptions in a week > 5)?\n",
        "1-dist.cdf(5)"
      ],
      "metadata": {
        "colab": {
          "base_uri": "https://localhost:8080/"
        },
        "id": "AOUzrB3lNA25",
        "outputId": "a22b6174-395a-43bc-cc5c-12dcb800b64c"
      },
      "execution_count": null,
      "outputs": [
        {
          "output_type": "execute_result",
          "data": {
            "text/plain": [
              "0.8087639379203747"
            ]
          },
          "metadata": {},
          "execution_count": 48
        }
      ]
    },
    {
      "cell_type": "code",
      "source": [
        "# if the average number of adoptions per week is 10, what is P(# of adoptions in a week > 5)?\n",
        "1-poisson(mu=10).cdf(5)"
      ],
      "metadata": {
        "colab": {
          "base_uri": "https://localhost:8080/"
        },
        "id": "Y1ImwKtFNEpC",
        "outputId": "8e13cebd-569e-46b3-9009-b44839652c89"
      },
      "execution_count": null,
      "outputs": [
        {
          "output_type": "execute_result",
          "data": {
            "text/plain": [
              "0.9329140371209681"
            ]
          },
          "metadata": {},
          "execution_count": 49
        }
      ]
    },
    {
      "cell_type": "code",
      "source": [
        "# random sampling from Poisson distribution\n",
        "poisson(mu=8).rvs(size=10)"
      ],
      "metadata": {
        "colab": {
          "base_uri": "https://localhost:8080/"
        },
        "id": "tWcfpLAiNLui",
        "outputId": "300565d8-1917-46dd-b91e-5ee1b9c03015"
      },
      "execution_count": null,
      "outputs": [
        {
          "output_type": "execute_result",
          "data": {
            "text/plain": [
              "array([ 7, 11, 15,  6,  8,  7,  4,  7,  6, 13])"
            ]
          },
          "metadata": {},
          "execution_count": 50
        }
      ]
    },
    {
      "cell_type": "code",
      "source": [
        "# Central Limit Theorem still applies\n",
        "\n",
        "sampling_mean = []\n",
        "for i in range(1, 10000):\n",
        "  sampling_mean += [(poisson(mu=8).rvs(size=10)).mean()]\n",
        "\n",
        "fig, ax = plt.subplots(1,1)\n",
        "ax.hist(sampling_mean, range=(4, 13))\n",
        "ax.set_title('Distribution of sample means from Poisson distribution (lambda = 8)')\n",
        "plt.show()  "
      ],
      "metadata": {
        "colab": {
          "base_uri": "https://localhost:8080/",
          "height": 281
        },
        "id": "UVoBeh6zNfkZ",
        "outputId": "a8319c06-dc19-4058-b61b-603cd9950e39"
      },
      "execution_count": null,
      "outputs": [
        {
          "output_type": "display_data",
          "data": {
            "text/plain": [
              "<Figure size 432x288 with 1 Axes>"
            ],
            "image/png": "[encoded data removed]"
          },
          "metadata": {
            "needs_background": "light"
          }
        }
      ]
    },
    {
      "cell_type": "markdown",
      "source": [
        "# Exponential distribution\n",
        "\n",
        "- Probability of time between Poisson events\n",
        "- Examples\n",
        "  - Prob of >1 day between adoptions\n",
        "  - Prob of <10 minutes between restaurant arrivals\n",
        "  - Prob of 6-8 months between earthquakes\n",
        "- also uses lambda rate\n",
        "- continuous (time)"
      ],
      "metadata": {
        "id": "Oj4TTp6gO0HT"
      }
    },
    {
      "cell_type": "markdown",
      "source": [
        "On Average, one customer service ticket is created every 2 minutes.\n",
        "- expected value of exponential distribution\n",
        "  - λ=0.5 requests per minute (in terms of rate, Poisson)\n",
        "  - 1/λ=1 request per 2 minutes (in terms of time, exponential)"
      ],
      "metadata": {
        "id": "Um8YvaSQRSiR"
      }
    },
    {
      "cell_type": "code",
      "source": [
        "from scipy.stats import expon\n",
        "\n",
        "fig, ax = plt.subplots(1,1)\n",
        "\n",
        "dist = expon(scale=2)\n",
        "x=np.arange(0, 6)\n",
        "\n",
        "ax.plot(x, dist.pdf(x))\n",
        "ax.set_title('lambda = 0.5 customer service tickets created each minute')\n",
        "ax.set_xlabel('Time between requests')\n",
        "plt.show()"
      ],
      "metadata": {
        "colab": {
          "base_uri": "https://localhost:8080/",
          "height": 295
        },
        "id": "5bX1lhlsOVRt",
        "outputId": "c6ca820c-0088-49be-f686-c6b6966d437a"
      },
      "execution_count": null,
      "outputs": [
        {
          "output_type": "display_data",
          "data": {
            "text/plain": [
              "<Figure size 432x288 with 1 Axes>"
            ],
            "image/png": "[encoded data removed]"
          },
          "metadata": {
            "needs_background": "light"
          }
        }
      ]
    },
    {
      "cell_type": "code",
      "source": [
        "# How long until a new request is created?\n",
        "# P(wait < 1 min)\n",
        "\n",
        "expon(scale=2).cdf(1)"
      ],
      "metadata": {
        "colab": {
          "base_uri": "https://localhost:8080/"
        },
        "id": "zFgaC91wOZlU",
        "outputId": "53870d5f-a845-41a5-b8d2-a6f213690037"
      },
      "execution_count": null,
      "outputs": [
        {
          "output_type": "execute_result",
          "data": {
            "text/plain": [
              "0.3934693402873666"
            ]
          },
          "metadata": {},
          "execution_count": 64
        }
      ]
    },
    {
      "cell_type": "code",
      "source": [
        "# P(wait > 4 min)\n",
        "\n",
        "1- expon(scale=2).cdf(4)"
      ],
      "metadata": {
        "colab": {
          "base_uri": "https://localhost:8080/"
        },
        "id": "wFP7Byo-SBzY",
        "outputId": "95455f62-407c-42f1-e9e4-5f5a40a175a8"
      },
      "execution_count": null,
      "outputs": [
        {
          "output_type": "execute_result",
          "data": {
            "text/plain": [
              "0.1353352832366127"
            ]
          },
          "metadata": {},
          "execution_count": 65
        }
      ]
    },
    {
      "cell_type": "code",
      "source": [
        "# P(1 min < wait < 4 min)\n",
        "\n",
        "expon(scale=2).cdf(4) - expon(scale=2).cdf(1)"
      ],
      "metadata": {
        "colab": {
          "base_uri": "https://localhost:8080/"
        },
        "id": "0-QLNGzbSFhu",
        "outputId": "de4904fe-848c-43f5-a940-0785d3c6ad42"
      },
      "execution_count": null,
      "outputs": [
        {
          "output_type": "execute_result",
          "data": {
            "text/plain": [
              "0.4711953764760207"
            ]
          },
          "metadata": {},
          "execution_count": 66
        }
      ]
    },
    {
      "cell_type": "markdown",
      "source": [
        "# Student's t-distribution\n",
        "\n",
        "- similar shape as the normal distribution\n",
        "- degree of freedom\n",
        "  - has parameter degrees of freedom (df) which affects the thickness of the tails\n",
        "    - lower df = ticker tails, higher standard deviation\n",
        "    - higher df = closer to normal distribution"
      ],
      "metadata": {
        "id": "w2BexZa9Sd99"
      }
    },
    {
      "cell_type": "code",
      "source": [
        "from scipy.stats import t\n",
        "\n",
        "fig, ax = plt.subplots(1,1)\n",
        "\n",
        "x = np.linspace(-3, 3)\n",
        "for i in [1,5, 10]:\n",
        "  dist = t(df=i)\n",
        "  ax.plot(x, dist.pdf(x), label=f'{i}')\n",
        "\n",
        "legend = ax.legend(loc='best', shadow=True, fontsize='large', title='df')\n",
        "ax.set_title('t-Distribution')\n",
        "plt.show()"
      ],
      "metadata": {
        "colab": {
          "base_uri": "https://localhost:8080/",
          "height": 281
        },
        "id": "B9MN7NmlSL1y",
        "outputId": "e5ab38e0-3e30-42de-ec9e-73c0b9af848f"
      },
      "execution_count": null,
      "outputs": [
        {
          "output_type": "display_data",
          "data": {
            "text/plain": [
              "<Figure size 432x288 with 1 Axes>"
            ],
            "image/png": "[encoded data removed]"
          },
          "metadata": {
            "needs_background": "light"
          }
        }
      ]
    },
    {
      "cell_type": "markdown",
      "source": [
        "# Geometric Distribution\n",
        "from [cuemeth]((https://www.cuemath.com/geometric-distribution-formula/):\n",
        "\n",
        "**Definition:**\n",
        "\n",
        "<i>\"Geometric distribution is a type of discrete probability distribution that represents the probability of the number of successive failures before a success is obtained in a Bernoulli trial. A Bernoulli trial is an experiment that can have only two possible outcomes, ie., success or failure.\"</i> \n",
        "\n",
        "**Three asssumptions:**\n",
        "- The trials being conducted are independent.\n",
        "- There can only be two outcomes of each trial - success or failure.\n",
        "- The success probability, denoted by p, is the same for each trial."
      ],
      "metadata": {
        "id": "kmVAHKFnsxzB"
      }
    },
    {
      "cell_type": "code",
      "source": [
        ""
      ],
      "metadata": {
        "id": "aYB2tXy3Tcpx"
      },
      "execution_count": null,
      "outputs": []
    }
  ]
}